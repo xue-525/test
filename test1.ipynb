{
 "cells": [
  {
   "cell_type": "code",
   "execution_count": null,
   "metadata": {},
   "outputs": [
    {
     "name": "stdout",
     "output_type": "stream",
     "text": [
      "test1\n",
      "test branch1\n"
     ]
    }
   ],
   "source": [
    "class test1():\n",
    "    def __init__(self):\n",
    "        print(\"test1\")\n",
    "        \n",
    "    def test1(self):\n",
    "        print(\"branch1\")\n",
    "        \n",
    "    def merge(self):\n",
    "        print(\"merge\")\n",
    "        \n",
    "test1 = test1()\n",
    "test1.merge()\n",
    "test1.test1()"
   ]
  }
 ],
 "metadata": {
  "kernelspec": {
   "display_name": "xuejq",
   "language": "python",
   "name": "python3"
  },
  "language_info": {
   "codemirror_mode": {
    "name": "ipython",
    "version": 3
   },
   "file_extension": ".py",
   "mimetype": "text/x-python",
   "name": "python",
   "nbconvert_exporter": "python",
   "pygments_lexer": "ipython3",
   "version": "3.12.2"
  }
 },
 "nbformat": 4,
 "nbformat_minor": 2
}
